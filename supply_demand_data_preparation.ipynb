{
 "cells": [
  {
   "cell_type": "markdown",
   "metadata": {},
   "source": [
    "### Community College Early Learning Credentials Supply and Demand Analysis\n",
    "\n",
    "The code below performs two general tasks: \n",
    "\n",
    "- Prepare 'demand' data. Demand data is the number of child care staff who need additional education in order to meet or exceed the new minimum education requirements for early learning staff members stated in recently passed legislation in Washington State. \n",
    "- Generate 'supply' data. Supply data is the number of child care staff to whom a community college can offer an early learning-related credential each year. I have not collected these data yet. For the moment, these data are randomly generated in order to build the analysis framework.\n",
    "\n",
    "All supply and demand data are aggregated by college and credential type. \n",
    "\n",
    "In the dataset there are four colleges and four types of credentials (AA, State Certificate, Short Certificate, and Initial Certificate).\n",
    "\n",
    "These data are a subset of a larger dataset and are blind."
   ]
  },
  {
   "cell_type": "markdown",
   "metadata": {},
   "source": [
    "### Load libraries"
   ]
  },
  {
   "cell_type": "code",
   "execution_count": 100,
   "metadata": {
    "collapsed": true
   },
   "outputs": [],
   "source": [
    "import pandas as pd\n",
    "import numpy as np\n",
    "from random import randint"
   ]
  },
  {
   "cell_type": "markdown",
   "metadata": {},
   "source": [
    "### Load Demand Data\n",
    "\n",
    "I import two datasets below:\n",
    "\n",
    "- `prov_data` includes Staff ID, child care site ID, and a flag which indicates the type of credential the staff member needs to earn in order to meet the new education standards. Not all staff require additional education.\n",
    "- `travel_times` includes the amount of time it takes to drive between child care sites and community colleges. Drive times are determined using the Google Distance Matrix API. I 'match' (or assign) staff members to colleges based on the shortest drive time."
   ]
  },
  {
   "cell_type": "code",
   "execution_count": 130,
   "metadata": {},
   "outputs": [],
   "source": [
    "prov_data = pd.read_csv('http://goo.gl/pzVrGK')\n",
    "\n",
    "mr_no = (\n",
    "    prov_data\n",
    "    .groupby(by = ['pid', 'credential'])\n",
    "    .count()\n",
    "    .reset_index()\n",
    "    .rename(columns = {'staff_id': 'mr_no'})\n",
    "    .pivot(index = 'pid', columns = 'credential', values = 'mr_no')\n",
    "    .reset_index()\n",
    "    )\n",
    "\n",
    "travel_times = pd.read_csv('http://goo.gl/e2oxfV')\n",
    "\n",
    "below_requirements_by_college = (\n",
    "    pd.melt(\n",
    "        (travel_times.query('compare_val == True')\n",
    "         .merge(mr_no)\n",
    "         .drop(['compare_val'], 1)\n",
    "        )\n",
    "        , id_vars=['col_id', 'college', 'pid', 'travel_time']\n",
    "        , value_vars=['demand_aa_staff', 'demand_state_staff'\n",
    "                      , 'demand_short_staff', 'demand_initial_staff']\n",
    "    )\n",
    "    .groupby(['col_id', 'college', 'variable'])['value']\n",
    "    .sum()\n",
    "    .reset_index()\n",
    "    .pivot_table(index = ['col_id', 'college'], columns = 'variable', values = 'value')\n",
    "    .reset_index()\n",
    "    .fillna(0)\n",
    "    .assign(\n",
    "        demand_aa_credential = lambda x: x.demand_aa_staff\n",
    "        , demand_state_credential = lambda x: x.demand_state_staff + x.demand_aa_staff\n",
    "        , demand_short_credential = lambda x: x.demand_short_staff + x.demand_state_staff + x.demand_aa_staff\n",
    "        , demand_initial_credential = lambda x: x.demand_initial_staff + x.demand_short_staff + x.demand_state_staff + x.demand_aa_staff\n",
    "    )\n",
    ")"
   ]
  },
  {
   "cell_type": "markdown",
   "metadata": {},
   "source": [
    "### Generate Sample Supply Data\n",
    "\n",
    "I have not collected supply data yet from colleges. The code below generates data that I use as 'placeholder' supply data until I collect genuine supply data from the community colleges. I use these placeholder data to build an analysis framework.\n",
    "\n",
    "Also in the cell below, I merge supply and demand data.\n",
    "\n",
    "The `college_supply_demand` data can be found <a href=\"https://goo.gl/vWqEBf\">here</a>. "
   ]
  },
  {
   "cell_type": "code",
   "execution_count": 132,
   "metadata": {},
   "outputs": [],
   "source": [
    "placeholder_supply_data = (\n",
    "    below_requirements_by_college\n",
    "    .assign(\n",
    "        supply_aa_credential = [randint(0,20) for p in range(0,4)]\n",
    "        , supply_state_credential = [randint(0,100) for p in range(0,4)]\n",
    "        , supply_short_credential = [randint(0,300) for p in range(0,4)]\n",
    "        , supply_initial_credential = [randint(0,800) for p in range(0,4)]\n",
    "    )\n",
    "    .assign(\n",
    "        supply_aa_credential = lambda x: x.supply_aa_credential\n",
    "        , supply_state_credential = lambda x: x.supply_state_credential + x.supply_aa_credential\n",
    "        , supply_short_credential = lambda x: x.supply_short_credential + x.supply_state_credential\n",
    "        , supply_initial_credential = lambda x: x.supply_initial_credential + x.supply_short_credential\n",
    "    )\n",
    "    .assign(\n",
    "        supply_aa_staff = lambda x: x.supply_aa_credential\n",
    "        , supply_state_staff = lambda x: x.supply_state_credential - x.supply_aa_credential\n",
    "        , supply_short_staff = lambda x: x.supply_short_credential - x.supply_state_credential\n",
    "        , supply_initial_staff = lambda x: x.supply_initial_credential - x.supply_short_credential\n",
    "    )\n",
    ")\n",
    "\n",
    "college_supply_demand = (\n",
    "    pd.melt(placeholder_supply_data\n",
    "            , id_vars=['col_id', 'college']\n",
    "            , value_vars=['demand_aa_staff', 'demand_state_staff', 'demand_short_staff', 'demand_initial_staff'\n",
    "                          ,'demand_aa_credential', 'demand_state_credential', 'demand_short_credential', 'demand_initial_credential'\n",
    "                          , 'supply_aa_staff', 'supply_state_staff', 'supply_short_staff', 'supply_initial_staff'\n",
    "                          ,'supply_aa_credential', 'supply_state_credential', 'supply_short_credential', 'supply_initial_credential']\n",
    "           )\n",
    "    .assign(\n",
    "        credential = lambda x: np.where(x.variable.str.contains('_aa'), 'AA', \n",
    "                                np.where(x.variable.str.contains('_initial'), 'Cert - Initial', \n",
    "                                np.where(x.variable.str.contains('_short'), 'Cert - Short',\n",
    "                                np.where(x.variable.str.contains('_state'), 'Cert - State', None))))\n",
    "        , level = lambda x: np.where(x.variable.str.contains('_staff'), 'Staff', 'Credentials')\n",
    "        , sup_demand = lambda x: np.where(x.variable.str.contains('demand'), 'Demand', 'Supply')\n",
    "    )\n",
    "    .reset_index()\n",
    "    .drop(['index', 'col_id', 'variable'], 1)\n",
    "    .pivot_table(index = ['college', 'level', 'credential'], columns = 'sup_demand', values = 'value')\n",
    "    .reset_index()\n",
    "    .rename(columns = {'college': 'College', 'level' : 'Measure', 'credential' : 'Credential'})\n",
    ")\n",
    "\n",
    "college_supply_demand.to_csv('college_supply_demand.csv', index = False)"
   ]
  }
 ],
 "metadata": {
  "kernelspec": {
   "display_name": "Python 3",
   "language": "python",
   "name": "python3"
  },
  "language_info": {
   "codemirror_mode": {
    "name": "ipython",
    "version": 3
   },
   "file_extension": ".py",
   "mimetype": "text/x-python",
   "name": "python",
   "nbconvert_exporter": "python",
   "pygments_lexer": "ipython3",
   "version": "3.6.4"
  }
 },
 "nbformat": 4,
 "nbformat_minor": 2
}
 
